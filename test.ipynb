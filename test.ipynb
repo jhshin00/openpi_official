{
 "cells": [
  {
   "cell_type": "code",
   "execution_count": null,
   "id": "bdc10daa",
   "metadata": {},
   "outputs": [],
   "source": [
    "import os\n",
    "os.environ[\"CUDA_VISIBLE_DEVICES\"] = \"1\""
   ]
  },
  {
   "cell_type": "code",
   "execution_count": null,
   "id": "f3a50ddc",
   "metadata": {},
   "outputs": [],
   "source": [
    "import orbax.checkpoint as ocp\n",
    "from flax import traverse_util\n",
    "import pathlib\n",
    "\n",
    "ckpt_path = \"checkpoints/pi0_fql_libero_lora_finetune/exp8_plz/29999/params\"\n",
    "ckpt_path = pathlib.Path(ckpt_path).resolve()\n",
    "\n",
    "with ocp.PyTreeCheckpointer() as ckptr:\n",
    "    metadata = ckptr.metadata(ckpt_path)\n",
    "    print(\"metadata keys:\", metadata.tree.keys())  # 어떤 key가 있는지 확인\n",
    "\n",
    "    # 예시: 여러 key가 있을 때\n",
    "    # item = {k: metadata[k] for k in metadata.tree.keys()}\n",
    "    # params = ckptr.restore(ckpt_path, ocp.args.PyTreeRestore(item=item))\n",
    "\n",
    "    # 예시: 단일 트리라면\n",
    "    params = ckptr.restore(ckpt_path)\n",
    "\n",
    "flat_params = traverse_util.flatten_dict(params)\n",
    "for k, v in flat_params.items():\n",
    "    print(k, type(v), getattr(v, 'shape', None), getattr(v, 'dtype', None))"
   ]
  },
  {
   "cell_type": "code",
   "execution_count": null,
   "id": "4b6b40fa",
   "metadata": {},
   "outputs": [],
   "source": [
    "import orbax.checkpoint as ocp\n",
    "from flax import traverse_util\n",
    "import pathlib\n",
    "\n",
    "ckpt_path = \"checkpoints/pi0_fql_libero_lora_finetune/exp8_plz/29999/params\"\n",
    "ckpt_path = pathlib.Path(ckpt_path).resolve()\n",
    "\n",
    "with ocp.PyTreeCheckpointer() as ckptr:\n",
    "    params = ckptr.restore(ckpt_path)\n",
    "\n",
    "# 트리 전체를 dict로 출력 (작은 모델일 때만!)\n",
    "import pprint\n",
    "pprint.pprint(params)"
   ]
  },
  {
   "cell_type": "code",
   "execution_count": null,
   "id": "a33ab494",
   "metadata": {},
   "outputs": [],
   "source": [
    "from collections.abc import Sequence\n",
    "import dataclasses\n",
    "import logging\n",
    "import pathlib\n",
    "from typing import Any\n",
    "\n",
    "import jax.numpy as jnp\n",
    "\n",
    "import src.openpi.models.model as _model\n",
    "import src.openpi.policies.policy as _policy\n",
    "import src.openpi.shared.download as download\n",
    "from src.openpi.training import checkpoints as _checkpoints\n",
    "from src.openpi.training import config as _config\n",
    "import src.openpi.transforms as transforms\n",
    "\n",
    "\n",
    "import abc\n",
    "from collections.abc import Sequence\n",
    "import dataclasses\n",
    "import enum\n",
    "import logging\n",
    "import pathlib\n",
    "from typing import Generic, TypeVar\n",
    "\n",
    "import augmax\n",
    "from flax import nnx\n",
    "from flax import struct\n",
    "from flax import traverse_util\n",
    "import jax\n",
    "import jax.numpy as jnp\n",
    "import numpy as np\n",
    "import orbax.checkpoint as ocp\n",
    "\n",
    "from src.openpi.shared import image_tools\n",
    "import src.openpi.shared.array_typing as at"
   ]
  },
  {
   "cell_type": "code",
   "execution_count": null,
   "id": "dac4c4ea",
   "metadata": {},
   "outputs": [],
   "source": [
    "from src.openpi.policies.policy_config import create_trained_policy_fql\n",
    "from src.openpi.training.config import get_config\n",
    "\n",
    "checkpoint_dir = \"checkpoints/pi0_fql_libero_lora_finetune/exp8_plz/29999/params\"\n",
    "train_config = get_config(\"pi0_fql_libero_lora_finetune\")"
   ]
  },
  {
   "cell_type": "code",
   "execution_count": null,
   "id": "4b6b1463",
   "metadata": {},
   "outputs": [],
   "source": [
    "repack_transforms = transforms.Group()\n",
    "checkpoint_dir = download.maybe_download(str(checkpoint_dir))\n",
    "logging.info(\"Loading model...\")"
   ]
  },
  {
   "cell_type": "code",
   "execution_count": null,
   "id": "b0b051c1",
   "metadata": {},
   "outputs": [],
   "source": [
    "params_path = pathlib.Path(checkpoint_dir).resolve()\n",
    "restore_type = jax.Array\n",
    "sharding = None\n",
    "\n",
    "if not params_path.exists():\n",
    "    raise FileNotFoundError(f\"Model params not found at: {params_path}\")\n",
    "    \n",
    "if restore_type is jax.Array and sharding is None:\n",
    "    mesh = jax.sharding.Mesh(jax.devices(), (\"x\",))\n",
    "    sharding = jax.sharding.NamedSharding(mesh, jax.sharding.PartitionSpec())"
   ]
  },
  {
   "cell_type": "code",
   "execution_count": null,
   "id": "ab20b200",
   "metadata": {},
   "outputs": [],
   "source": [
    "dtype=jnp.bfloat16\n",
    "with ocp.PyTreeCheckpointer() as ckptr:\n",
    "    metadata = ckptr.metadata(params_path)\n",
    "    item = {\n",
    "        \"actor_params\": metadata[\"actor_params\"],\n",
    "        \"critic_params\": metadata[\"critic_params\"],\n",
    "        \"critic_target_params\": metadata[\"critic_target_params\"],\n",
    "    }\n",
    "    params = ckptr.restore(\n",
    "        params_path,\n",
    "            ocp.args.PyTreeRestore(\n",
    "                item=item,\n",
    "                restore_args=jax.tree.map(\n",
    "                    lambda _: ocp.ArrayRestoreArgs(sharding=sharding, restore_type=restore_type, dtype=dtype), item\n",
    "                ),\n",
    "            ),\n",
    "    )"
   ]
  },
  {
   "cell_type": "code",
   "execution_count": null,
   "id": "336e472d",
   "metadata": {},
   "outputs": [],
   "source": [
    "flat_params = {}\n",
    "for k in [\"actor_params\", \"critic_params\", \"critic_target_params\"]:\n",
    "    flat = traverse_util.flatten_dict(params[k])\n",
    "    if all(kp[-1] == \"value\" for kp in flat):\n",
    "        flat = {kp[:-1]: v for kp, v in flat.items()}\n",
    "    flat_params[k] = traverse_util.unflatten_dict(flat)\n"
   ]
  },
  {
   "cell_type": "code",
   "execution_count": null,
   "id": "eefa5c51",
   "metadata": {},
   "outputs": [],
   "source": [
    "flat_params[\"actor_params\"][\"actor\"]"
   ]
  },
  {
   "cell_type": "code",
   "execution_count": null,
   "id": "6a0db898",
   "metadata": {},
   "outputs": [],
   "source": [
    "params = {\n",
    "        \"actor\": flat_params[\"actor_params\"][\"actor\"],\n",
    "        \"critic\": flat_params[\"critic_params\"][\"critic\"],\n",
    "        \"critic_target\": flat_params[\"critic_target_params\"][\"critic_target\"],\n",
    "    }\n"
   ]
  },
  {
   "cell_type": "code",
   "execution_count": null,
   "id": "6d4e0242",
   "metadata": {},
   "outputs": [],
   "source": [
    "params.keys()"
   ]
  },
  {
   "cell_type": "code",
   "execution_count": null,
   "id": "bdcbc3f8",
   "metadata": {},
   "outputs": [],
   "source": [
    "train_config.model.create"
   ]
  },
  {
   "cell_type": "code",
   "execution_count": null,
   "id": "12e0cd86",
   "metadata": {},
   "outputs": [],
   "source": [
    "model = nnx.eval_shape(train_config.model.create, jax.random.key(0))"
   ]
  },
  {
   "cell_type": "code",
   "execution_count": null,
   "id": "9ff94c53",
   "metadata": {},
   "outputs": [],
   "source": [
    "graphdef, state = nnx.split(model)"
   ]
  },
  {
   "cell_type": "code",
   "execution_count": null,
   "id": "295a0528",
   "metadata": {},
   "outputs": [],
   "source": [
    "state.to_pure_dict()['critic']['cross_attn_in']['cross_attn']['rngs']"
   ]
  },
  {
   "cell_type": "code",
   "execution_count": null,
   "id": "3bd7f2a2",
   "metadata": {},
   "outputs": [],
   "source": [
    "expected_tree = state.to_pure_dict()"
   ]
  },
  {
   "cell_type": "code",
   "execution_count": null,
   "id": "66ffeb89",
   "metadata": {},
   "outputs": [],
   "source": [
    "state.to_pure_dict()['critic']['img_embed']['proj']"
   ]
  },
  {
   "cell_type": "code",
   "execution_count": null,
   "id": "4488eb06",
   "metadata": {},
   "outputs": [],
   "source": [
    "expected_tree['critic']['cross_attn_in']['cross_attn']['rngs']['default']['key']"
   ]
  },
  {
   "cell_type": "code",
   "execution_count": null,
   "id": "1518a303",
   "metadata": {},
   "outputs": [],
   "source": [
    "params['critic']['cross_attn_in']['cross_attn']['rngs']['default']['key']"
   ]
  },
  {
   "cell_type": "code",
   "execution_count": null,
   "id": "fa882008",
   "metadata": {},
   "outputs": [],
   "source": [
    "def print_shape_mismatches(params, expected_tree, path=None):\n",
    "    import numpy as np\n",
    "\n",
    "    if path is None:\n",
    "        path = []\n",
    "\n",
    "    # 둘 다 dict면 재귀적으로 탐색\n",
    "    if isinstance(params, dict) and isinstance(expected_tree, dict):\n",
    "        for key in params:\n",
    "            if key in expected_tree:\n",
    "                print_shape_mismatches(params[key], expected_tree[key], path + [key])\n",
    "            else:\n",
    "                # expected_tree에 없는 key는 무시 (필요시 출력)\n",
    "                pass\n",
    "        return\n",
    "\n",
    "    # 둘 다 array-like면 shape 비교\n",
    "    if hasattr(params, 'shape') and hasattr(expected_tree, 'shape'):\n",
    "        if params.shape != expected_tree.shape:\n",
    "            print(f\"Shape mismatch at {'.'.join(map(str, path))}: \"\n",
    "                  f\"params shape={params.shape}, expected shape={expected_tree.shape}\")\n",
    "        return\n",
    "\n",
    "    # 타입이 다르거나, 한쪽만 array-like인 경우\n",
    "    if type(params) != type(expected_tree):\n",
    "        print(f\"Type mismatch at {'.'.join(map(str, path))}: \"\n",
    "              f\"params type={type(params)}, expected type={type(expected_tree)}\")\n",
    "        return\n",
    "\n",
    "    # leaf인데 shape 속성이 없는 경우는 무시 (필요시 추가 처리)"
   ]
  },
  {
   "cell_type": "code",
   "execution_count": null,
   "id": "5e063059",
   "metadata": {},
   "outputs": [],
   "source": [
    "print_shape_mismatches(params, expected_tree)"
   ]
  },
  {
   "cell_type": "code",
   "execution_count": null,
   "id": "44f13c58",
   "metadata": {},
   "outputs": [],
   "source": [
    "def auto_fix_shape(params, expected_tree, path=None):\n",
    "    import numpy as np\n",
    "\n",
    "    if path is None:\n",
    "        path = []\n",
    "\n",
    "    if isinstance(params, dict) and isinstance(expected_tree, dict):\n",
    "        return {k: auto_fix_shape(params[k], expected_tree[k], path + [k])\n",
    "                for k in params if k in expected_tree}\n",
    "\n",
    "    # shape 비교\n",
    "    if hasattr(params, 'shape') and hasattr(expected_tree, 'shape'):\n",
    "        if params.shape != expected_tree.shape:\n",
    "            # expected가 스칼라일 때\n",
    "            if expected_tree.shape == ():\n",
    "                # JAX, numpy, torch 모두 flatten()[0] 지원\n",
    "                try:\n",
    "                    value = params.flatten()[0]\n",
    "                except Exception:\n",
    "                    # fallback: numpy array로 변환 후 flatten\n",
    "                    value = np.array(params).flatten()[0]\n",
    "                print(f\"Auto-fixing {'/'.join(map(str, path))}: {params.shape} -> {expected_tree.shape} (using first value)\")\n",
    "                return value\n",
    "            # expected shape에 맞게 reshape (가능한 경우)\n",
    "            try:\n",
    "                params_reshaped = np.reshape(params, expected_tree.shape)\n",
    "                print(f\"Auto-fixing {'/'.join(map(str, path))}: {params.shape} -> {expected_tree.shape}\")\n",
    "                return params_reshaped\n",
    "            except Exception as e:\n",
    "                print(f\"Cannot auto-fix {'/'.join(map(str, path))}: {e}\")\n",
    "                return params\n",
    "        return params\n",
    "\n",
    "    return params"
   ]
  },
  {
   "cell_type": "code",
   "execution_count": null,
   "id": "8ef47456",
   "metadata": {},
   "outputs": [],
   "source": [
    "auto_fix_shape(params, expected_tree)['critic']['cross_attn_in']['cross_attn']['rngs']['default']['key']"
   ]
  },
  {
   "cell_type": "code",
   "execution_count": null,
   "id": "cf76e197",
   "metadata": {},
   "outputs": [],
   "source": [
    "params_rm = ocp.transform_utils.intersect_trees(state.to_pure_dict(), params)"
   ]
  },
  {
   "cell_type": "code",
   "execution_count": null,
   "id": "bbec963a",
   "metadata": {},
   "outputs": [],
   "source": [
    "params_rm['critic']['cross_attn_in']['cross_attn']['rngs']"
   ]
  },
  {
   "cell_type": "code",
   "execution_count": null,
   "id": "2a8f81cf",
   "metadata": {},
   "outputs": [],
   "source": [
    "params_rm['critic']['img_embed']['proj']"
   ]
  },
  {
   "cell_type": "code",
   "execution_count": null,
   "id": "70505213",
   "metadata": {},
   "outputs": [],
   "source": [
    "def make_none_tree(tree):\n",
    "    if isinstance(tree, dict):\n",
    "        return {k: make_none_tree(v) for k, v in tree.items()}\n",
    "    else:\n",
    "        return tree  # None이 아니라 state_dict의 값을 그대로 반환\n",
    "def align_params_to_state(state_dict, params_dict):\n",
    "    if isinstance(state_dict, dict):\n",
    "        out = {}\n",
    "        for k, v in state_dict.items():\n",
    "            if k == 'rngs':\n",
    "                out[k] = make_none_tree(v)  # 구조는 유지, leaf는 state_dict 값\n",
    "            elif k in params_dict:\n",
    "                out[k] = align_params_to_state(v, params_dict[k])\n",
    "            else:\n",
    "                out[k] = v\n",
    "        return out\n",
    "    else:\n",
    "        return params_dict if params_dict is not None else state_dict"
   ]
  },
  {
   "cell_type": "code",
   "execution_count": null,
   "id": "ace8f028",
   "metadata": {},
   "outputs": [],
   "source": [
    "params_rm['critic']['cross_attn_in']['cross_attn']['rngs'] == params['critic']['cross_attn_in']['cross_attn']['rngs']"
   ]
  },
  {
   "cell_type": "code",
   "execution_count": null,
   "id": "f167729f",
   "metadata": {},
   "outputs": [],
   "source": [
    "params_rm['critic']['cross_attn_in']['cross_attn']['rngs']"
   ]
  },
  {
   "cell_type": "code",
   "execution_count": null,
   "id": "f8c89f3e",
   "metadata": {},
   "outputs": [],
   "source": [
    "params['critic']['cross_attn_in']['cross_attn']['rngs']"
   ]
  },
  {
   "cell_type": "code",
   "execution_count": null,
   "id": "05f39d5e",
   "metadata": {},
   "outputs": [],
   "source": [
    "params_rm == params"
   ]
  },
  {
   "cell_type": "code",
   "execution_count": null,
   "id": "515c7f65",
   "metadata": {},
   "outputs": [],
   "source": [
    "from functools import reduce\n",
    "import operator\n",
    "\n",
    "def get_keypaths(d, prefix=()):\n",
    "    if isinstance(d, dict):\n",
    "        for k, v in d.items():\n",
    "            yield from get_keypaths(v, prefix + (k,))\n",
    "    else:\n",
    "        yield prefix\n",
    "\n",
    "# params와 params_rm의 keypath 집합\n",
    "params_kp    = set(get_keypaths(params))\n",
    "params_rm_kp = set(get_keypaths(params_rm))\n",
    "\n",
    "# 모델에만 있고 체크포인트에 없는 keypath\n",
    "only_in_params    = params_kp    - params_rm_kp\n",
    "# 체크포인트에만 있고 모델에 없는 keypath\n",
    "only_in_params_rm = params_rm_kp - params_kp\n",
    "\n",
    "print(\"=== params에만 있는 keypaths ===\")\n",
    "for kp in sorted(only_in_params):\n",
    "    print(kp)\n",
    "\n",
    "print(\"=== params_rm에만 있는 keypaths ===\")\n",
    "for kp in sorted(only_in_params_rm):\n",
    "    print(kp)"
   ]
  },
  {
   "cell_type": "code",
   "execution_count": null,
   "id": "1dea6ed7",
   "metadata": {},
   "outputs": [],
   "source": [
    "import numpy as np\n",
    "from functools import reduce\n",
    "import operator\n",
    "\n",
    "def get_by_path(d, keypath):\n",
    "    return reduce(operator.getitem, keypath, d)\n",
    "\n",
    "# keypath 집합 계산은 이전과 동일\n",
    "common_kp = params_kp & params_rm_kp\n",
    "\n",
    "MAX_SAMPLES = 4000  # 비교할 최대 원소 수\n",
    "\n",
    "for kp in sorted(common_kp):\n",
    "    v1 = get_by_path(params,    kp)\n",
    "    v2 = get_by_path(params_rm, kp)\n",
    "\n",
    "    # 배열형 leaf만 처리\n",
    "    if hasattr(v1, 'shape') and hasattr(v2, 'shape'):\n",
    "        # shape 불일치 점검\n",
    "        if v1.shape != v2.shape:\n",
    "            print(f\"[SHAPE MISMATCH] {kp}: {v1.shape} vs {v2.shape}\")\n",
    "            continue\n",
    "\n",
    "        # float32로 바꿔 numpy array 생성\n",
    "        try:\n",
    "            a1 = np.array(v1, dtype=np.float32).ravel()\n",
    "            a2 = np.array(v2, dtype=np.float32).ravel()\n",
    "        except Exception:\n",
    "            print(f\"[SKIPPED] {kp}: cannot convert to float32\")\n",
    "            continue\n",
    "\n",
    "        # 비교할 원소 개수 제한\n",
    "        n = min(a1.size, MAX_SAMPLES)\n",
    "        # 앞에서 n개만 사용하거나, 랜덤 샘플을 뽑으려면 아래 주석 코드 사용\n",
    "        idx = np.arange(n)\n",
    "        # idx = np.random.choice(a1.size, n, replace=False)\n",
    "\n",
    "        sample1 = a1[idx]\n",
    "        sample2 = a2[idx]\n",
    "\n",
    "        # 값 차이 계산\n",
    "        diff = np.abs(sample1 - sample2)\n",
    "        max_diff  = diff.max()\n",
    "        mean_diff = diff.mean()\n",
    "\n",
    "        if max_diff > 1e-6:  # 어떤 기준값을 설정하세요\n",
    "            print(f\"[VALUE MISMATCH] {kp}: max={max_diff:.3e}, mean={mean_diff:.3e}\")\n",
    "    else:\n",
    "        # 배열이 아닌 경우 간단 비교\n",
    "        if v1 != v2:\n",
    "            print(f\"[TYPE MISMATCH] {kp}: {v1!r} vs {v2!r}\")"
   ]
  },
  {
   "cell_type": "code",
   "execution_count": null,
   "id": "11c35b6e",
   "metadata": {},
   "outputs": [],
   "source": [
    "def get_keypaths(d, prefix=()):\n",
    "    \"\"\"파라미터 트리의 모든 keypath를 tuple로 반환\"\"\"\n",
    "    if isinstance(d, dict):\n",
    "        for k, v in d.items():\n",
    "            yield from get_keypaths(v, prefix + (k,))\n",
    "    else:\n",
    "        yield prefix\n",
    "\n",
    "# 예시: params와 expected_tree가 dict 형태라고 가정\n",
    "params_keypaths = set(get_keypaths(params_rm))\n",
    "expected_keypaths = set(get_keypaths(expected_tree))\n",
    "\n",
    "print(\"=== 모델에만 있고 체크포인트에 없는 keypaths ===\")\n",
    "for kp in sorted(expected_keypaths - params_keypaths):\n",
    "    print(kp)\n",
    "\n",
    "print(\"=== 체크포인트에만 있고 모델에 없는 keypaths ===\")\n",
    "for kp in sorted(params_keypaths - expected_keypaths):\n",
    "    print(kp)"
   ]
  },
  {
   "cell_type": "code",
   "execution_count": null,
   "id": "3cdc2989",
   "metadata": {},
   "outputs": [],
   "source": [
    "state.replace_by_pure_dict(params)\n",
    "state.to_pure_dict()['critic']['cross_attn_in']['cross_attn']['rngs']"
   ]
  },
  {
   "cell_type": "code",
   "execution_count": null,
   "id": "639bf557",
   "metadata": {},
   "outputs": [],
   "source": [
    "state.replace_by_pure_dict(params_rm)\n",
    "state2 = state"
   ]
  },
  {
   "cell_type": "code",
   "execution_count": null,
   "id": "dd183b63",
   "metadata": {},
   "outputs": [],
   "source": [
    "state1 == state2"
   ]
  },
  {
   "cell_type": "code",
   "execution_count": null,
   "id": "7c6510a3",
   "metadata": {},
   "outputs": [],
   "source": [
    "state1.to_pure_dict() == state2.to_pure_dict()"
   ]
  },
  {
   "cell_type": "code",
   "execution_count": null,
   "id": "35550d03",
   "metadata": {},
   "outputs": [],
   "source": [
    "state1.to_pure_dict()['critic']['cross_attn_in']['cross_attn']['rngs']"
   ]
  },
  {
   "cell_type": "code",
   "execution_count": null,
   "id": "e75a79d8",
   "metadata": {},
   "outputs": [],
   "source": [
    "state2.to_pure_dict()['critic']['cross_attn_in']['cross_attn']['rngs']"
   ]
  },
  {
   "cell_type": "code",
   "execution_count": null,
   "id": "362bceae",
   "metadata": {},
   "outputs": [],
   "source": [
    "pi_model = nnx.merge(graphdef, state)"
   ]
  },
  {
   "cell_type": "code",
   "execution_count": null,
   "id": "e7896876",
   "metadata": {},
   "outputs": [],
   "source": [
    "nnx.state(pi_model).to_pure_dict()"
   ]
  },
  {
   "cell_type": "code",
   "execution_count": null,
   "id": "8b41b1b5",
   "metadata": {},
   "outputs": [],
   "source": [
    "nnx.state(pi_model).to_pure_dict()['actor']['PaliGemma']['llm']['layers']['attn']['attn_vec_einsum']['lora_a'] == params['actor']['PaliGemma']['llm']['layers']['attn']['attn_vec_einsum']['lora_a']"
   ]
  },
  {
   "cell_type": "code",
   "execution_count": null,
   "id": "f4e9eef0",
   "metadata": {},
   "outputs": [],
   "source": [
    "def get_lora_keypaths(tree, prefix=()):\n",
    "    \"\"\"\n",
    "    중첩된 dict(PyTree)에서 keypath tuple을 재귀적으로 수집하다가\n",
    "    'lora'가 들어간 keypath만 반환\n",
    "    \"\"\"\n",
    "    lora_keys = []\n",
    "    if isinstance(tree, dict):\n",
    "        for k, v in tree.items():\n",
    "            lora_keys += get_lora_keypaths(v, prefix + (k,))\n",
    "    else:\n",
    "        full_key = \"/\".join(prefix)\n",
    "        if \"lora\" in full_key.lower():\n",
    "            lora_keys.append(full_key)\n",
    "    return lora_keys\n",
    "\n",
    "# 사용 예시\n",
    "# params = model.params 또는 torch로는 model.state_dict()\n",
    "lora_keys = get_lora_keypaths(nnx.state(pi_model).to_pure_dict())\n",
    "print(\"▶︎ LoRA 파라미터 keypaths:\")\n",
    "for k in lora_keys:\n",
    "    print(k)"
   ]
  },
  {
   "cell_type": "code",
   "execution_count": null,
   "id": "aac64764",
   "metadata": {},
   "outputs": [],
   "source": [
    "rng = jax.random.key(0)"
   ]
  },
  {
   "cell_type": "code",
   "execution_count": null,
   "id": "e716d9eb",
   "metadata": {},
   "outputs": [],
   "source": [
    "import src.openpi.training.data_loader as _data_loader\n",
    "data_loader = _data_loader.create_data_loader(train_config, sharding=sharding, shuffle=True, num_batches=1)"
   ]
  },
  {
   "cell_type": "code",
   "execution_count": null,
   "id": "c523774b",
   "metadata": {},
   "outputs": [],
   "source": [
    "pi_model.sample_actions(rng, )"
   ]
  },
  {
   "cell_type": "code",
   "execution_count": null,
   "id": "a4007693",
   "metadata": {},
   "outputs": [],
   "source": [
    "import os\n",
    "os.environ[\"CUDA_VISIBLE_DEVICES\"] = \"2\""
   ]
  },
  {
   "cell_type": "code",
   "execution_count": null,
   "id": "a7ee36de",
   "metadata": {},
   "outputs": [],
   "source": [
    "import pandas as pd\n",
    "\n",
    "path = \"/ssd1/openpi_official/datasets/libero_fql/data/chunk-000/episode_000000.parquet\"\n",
    "df = pd.read_parquet(path)\n",
    "\n",
    "# 컬럼과 dtypes 확인\n",
    "print(df.info())\n",
    "\n",
    "# 샘플 5행 (후니)보기\n",
    "print(df.head())"
   ]
  },
  {
   "cell_type": "code",
   "execution_count": null,
   "id": "d1ef6965",
   "metadata": {},
   "outputs": [],
   "source": [
    "df['next_state'][0]"
   ]
  },
  {
   "cell_type": "code",
   "execution_count": null,
   "id": "4fb24c42",
   "metadata": {},
   "outputs": [],
   "source": [
    "df['state'][1]"
   ]
  },
  {
   "cell_type": "code",
   "execution_count": null,
   "id": "0073be5c",
   "metadata": {},
   "outputs": [],
   "source": [
    "df['terminal']"
   ]
  },
  {
   "cell_type": "code",
   "execution_count": null,
   "id": "bccd0235",
   "metadata": {},
   "outputs": [],
   "source": [
    "df['actions'][100]"
   ]
  },
  {
   "cell_type": "code",
   "execution_count": null,
   "id": "d05ae157",
   "metadata": {},
   "outputs": [],
   "source": [
    "df['reward']"
   ]
  },
  {
   "cell_type": "code",
   "execution_count": null,
   "id": "3878be82",
   "metadata": {},
   "outputs": [],
   "source": [
    "from src.openpi.training.config import get_config\n",
    "import jax\n",
    "import src.openpi.training.data_loader as _data_loader\n",
    "import src.openpi.training.checkpoints as _checkpoints\n",
    "import src.openpi.training.sharding as sharding\n",
    "\n",
    "\n",
    "config = get_config(\"pi0_fql_libero_lora_finetune\")"
   ]
  },
  {
   "cell_type": "code",
   "execution_count": null,
   "id": "6ed8e18d",
   "metadata": {},
   "outputs": [],
   "source": [
    "if config.batch_size % jax.device_count() != 0:\n",
    "    raise ValueError(f\"Batch size {config.batch_size} must be divisible by number of devices.\")\n",
    "\n",
    "rng = jax.random.key(config.seed)\n",
    "train_rng, init_rng = jax.random.split(rng)\n",
    "\n",
    "mesh = sharding.make_mesh(config.fsdp_devices)\n",
    "data_sharding = jax.sharding.NamedSharding(mesh, jax.sharding.PartitionSpec(sharding.DATA_AXIS))\n",
    "replicated_sharding = jax.sharding.NamedSharding(mesh, jax.sharding.PartitionSpec())\n",
    "\n",
    "checkpoint_manager, resuming = _checkpoints.initialize_checkpoint_dir(\n",
    "    config.checkpoint_dir,\n",
    "    keep_period=config.keep_period,\n",
    "    overwrite=config.overwrite,\n",
    "        resume=config.resume,\n",
    "    )\n",
    "\n",
    "data_loader = _data_loader.create_data_loader(\n",
    "        config,\n",
    "        sharding=data_sharding,\n",
    "        shuffle=True,\n",
    "    )\n",
    "data_iter = iter(data_loader)\n",
    "batch = next(data_iter)"
   ]
  },
  {
   "cell_type": "code",
   "execution_count": null,
   "id": "c39cf475",
   "metadata": {},
   "outputs": [],
   "source": []
  }
 ],
 "metadata": {
  "kernelspec": {
   "display_name": "openpi",
   "language": "python",
   "name": "python3"
  },
  "language_info": {
   "codemirror_mode": {
    "name": "ipython",
    "version": 3
   },
   "file_extension": ".py",
   "mimetype": "text/x-python",
   "name": "python",
   "nbconvert_exporter": "python",
   "pygments_lexer": "ipython3",
   "version": "3.11.13"
  }
 },
 "nbformat": 4,
 "nbformat_minor": 5
}
