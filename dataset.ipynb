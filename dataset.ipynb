{
 "cells": [
  {
   "cell_type": "code",
   "execution_count": null,
   "metadata": {},
   "outputs": [],
   "source": [
    "import os\n",
    "import h5py\n",
    "import numpy as np\n",
    "import matplotlib.pyplot as plt\n",
    "import matplotlib.animation as animation\n",
    "\n",
    "data_dir = '/ssd2/openpi/datasets/ur3_datasets'\n",
    "for task in os.listdir(data_dir):\n",
    "    print(task)\n",
    "    task_dir = os.path.join(data_dir, task)\n",
    "    for file in os.listdir(task_dir):\n",
    "        file_path = os.path.join(task_dir, file)\n",
    "        with h5py.File(file_path+'/data.hdf5', 'r') as f:\n",
    "            for key in f['data'].keys():\n",
    "                print(key)"
   ]
  },
  {
   "cell_type": "code",
   "execution_count": null,
   "metadata": {},
   "outputs": [],
   "source": [
    "import os\n",
    "import h5py\n",
    "import numpy as np\n",
    "import matplotlib.pyplot as plt\n",
    "import matplotlib.animation as animation\n",
    "\n",
    "data_dir = '/ssd2/openpi/datasets/ur3_datasets/TASK_1_pick_up_the_bread_and_place_it_on_the_plate/0729_165009'\n",
    "\n",
    "with h5py.File(data_dir+'/data.hdf5', 'r') as f:\n",
    "    for key in f['data'].keys():\n",
    "        print(f\"key: {key}\")\n",
    "        print(f['data'][key][0:2])\n",
    "        print(\"\\n\")\n",
    "        \n",
    "        "
   ]
  },
  {
   "cell_type": "code",
   "execution_count": null,
   "metadata": {},
   "outputs": [],
   "source": []
  }
 ],
 "metadata": {
  "kernelspec": {
   "display_name": ".venv",
   "language": "python",
   "name": "python3"
  },
  "language_info": {
   "codemirror_mode": {
    "name": "ipython",
    "version": 3
   },
   "file_extension": ".py",
   "mimetype": "text/x-python",
   "name": "python",
   "nbconvert_exporter": "python",
   "pygments_lexer": "ipython3",
   "version": "3.11.13"
  }
 },
 "nbformat": 4,
 "nbformat_minor": 2
}
